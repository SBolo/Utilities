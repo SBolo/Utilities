{
 "cells": [
  {
   "cell_type": "markdown",
   "metadata": {},
   "source": [
    "# cJUN Analysis"
   ]
  },
  {
   "cell_type": "code",
   "execution_count": 1,
   "metadata": {},
   "outputs": [],
   "source": [
    "import numpy as np\n",
    "import matplotlib.pyplot as plt"
   ]
  },
  {
   "cell_type": "markdown",
   "metadata": {},
   "source": [
    "## Functions"
   ]
  },
  {
   "cell_type": "code",
   "execution_count": 2,
   "metadata": {},
   "outputs": [],
   "source": [
    "def detect_binding( arr, high_cutoff, low_cutoff ):\n",
    "\n",
    "    dim = len(arr)\n",
    "\n",
    "    time_high = 0\n",
    "    paths = [ ]\n",
    "    time = 0\n",
    "\n",
    "    while( time < dim ):\n",
    "\n",
    "        item = arr[time]\n",
    "\n",
    "        if( item >= high_cutoff ):\n",
    "\n",
    "            time_high = time\n",
    "\n",
    "            counter = 1\n",
    "            for jtem in arr[time_high+1:]:\n",
    "\n",
    "                if( jtem >= high_cutoff ):\n",
    "                    time = time_high + counter - 1\n",
    "                    break\n",
    "\n",
    "                elif( jtem <= low_cutoff ):\n",
    "                    paths.append( [ time_high, time_high + counter ] )\n",
    "                    time = time_high + counter - 1\n",
    "                    break\n",
    "\n",
    "                counter += 1\n",
    "        time += 1\n",
    "\n",
    "    return paths"
   ]
  },
  {
   "cell_type": "code",
   "execution_count": 3,
   "metadata": {},
   "outputs": [],
   "source": [
    "def detect_unbinding( arr, high_cutoff, low_cutoff ):\n",
    "\n",
    "    dim = len(arr)\n",
    "\n",
    "    time_low = 0\n",
    "    paths = [ ]\n",
    "    time = 0\n",
    "\n",
    "    while( time < dim ):\n",
    "\n",
    "        item = arr[time]\n",
    "\n",
    "        if( item <= low_cutoff ):\n",
    "\n",
    "            time_low = time\n",
    "\n",
    "            counter = 1\n",
    "            for jtem in arr[time_low+1:]:\n",
    "\n",
    "                if( jtem <= low_cutoff ):\n",
    "                    time = time_low + counter - 1\n",
    "                    break\n",
    "\n",
    "                elif( jtem >= high_cutoff ):\n",
    "                    paths.append( [ time_low, time_low + counter ] )\n",
    "                    time = time_low + counter - 1\n",
    "                    break\n",
    "\n",
    "                counter += 1\n",
    "        time += 1\n",
    "\n",
    "    return paths"
   ]
  },
  {
   "cell_type": "code",
   "execution_count": 4,
   "metadata": {},
   "outputs": [],
   "source": [
    "def residence_times( dist, unbinding, binding ):\n",
    "    \n",
    "    bound_time           = 0\n",
    "    unbound_time         = 0\n",
    "    initial_bound_time   = 0\n",
    "    initial_unbound_time = 0\n",
    "    n_unbound            = 0\n",
    "    n_bound              = 0 \n",
    "\n",
    "    initial = min( unbinding[0][0], binding[0][0] )\n",
    "\n",
    "    if initial == unbinding[0]:\n",
    "        initial_bound_time   = initial\n",
    "        n_bound             += 1\n",
    "    else:\n",
    "        initial_unbound_time = initial\n",
    "        n_unbound           += 1\n",
    "\n",
    "    unbound_time = initial_unbound_time\n",
    "    bound_time = initial_bound_time\n",
    "\n",
    "    i = 0\n",
    "    for u,b in zip( unbinding, binding ):\n",
    "\n",
    "        if initial_unbound_time > 0:\n",
    "            bound_time   += u[0] - b[1]\n",
    "            unbound_time += binding[i+1][0] - u[1]\n",
    "        else:\n",
    "            unbound_time += u[0] - b[1]\n",
    "            bound_time   += binding[i+1][0] - u[1]\n",
    "\n",
    "        i += 1\n",
    "\n",
    "        if i == len(unbinding)-1:\n",
    "            break\n",
    "\n",
    "    if initial_unbound_time > 0:\n",
    "        bound_time   += unbinding[-1][0] - binding[-1][1]\n",
    "        unbound_time += len(dist) - unbinding[-1][1]  \n",
    "    else:\n",
    "        unbound_time += unbinding[-1][0] - binding[-1][1]\n",
    "        bound_time   += len(dist) - unbinding[-1][1]\n",
    "        \n",
    "    n_bound   += len(binding)\n",
    "    n_unbound += len(unbinding)\n",
    "    \n",
    "    # sanity check\n",
    "    transition_time = 0\n",
    "    for u,b in zip(unbinding,binding):\n",
    "        transition_time += (u[1] - u[0]) + (b[1] - b[0])\n",
    "        \n",
    "    print(f\"# SANITY CHECK: {len(dist) - unbound_time - bound_time - transition_time}\")\n",
    "        \n",
    "    return unbound_time / n_unbound, bound_time / n_bound"
   ]
  },
  {
   "cell_type": "markdown",
   "metadata": {},
   "source": [
    "## Load Data"
   ]
  },
  {
   "cell_type": "code",
   "execution_count": 5,
   "metadata": {},
   "outputs": [],
   "source": [
    "dist = np.genfromtxt( 'temp.dat' )"
   ]
  },
  {
   "cell_type": "code",
   "execution_count": 6,
   "metadata": {},
   "outputs": [],
   "source": [
    "min_cutoff = 0.8\n",
    "max_cutoff = 2"
   ]
  },
  {
   "cell_type": "code",
   "execution_count": 7,
   "metadata": {},
   "outputs": [
    {
     "data": {
      "image/png": "[encoded data removed]",
      "text/plain": [
       "<Figure size 432x288 with 1 Axes>"
      ]
     },
     "metadata": {
      "needs_background": "light"
     },
     "output_type": "display_data"
    }
   ],
   "source": [
    "x = dist[:,0]/1e4\n",
    "\n",
    "plt.plot( x, dist[:,1], zorder = 0 )\n",
    "plt.hlines( min_cutoff, x[0], x[-1], linestyle = '--', color = 'k', zorder = 10 )\n",
    "plt.hlines( max_cutoff, x[0], x[-1], linestyle = ':',  color = 'k', zorder = 10 )\n",
    "plt.xlabel(r'Time [$\\mu$s]')\n",
    "plt.ylabel('Distance [nm]')\n",
    "plt.show()"
   ]
  },
  {
   "cell_type": "code",
   "execution_count": 8,
   "metadata": {},
   "outputs": [],
   "source": [
    "binding   = detect_binding(   dist[:,1], max_cutoff, min_cutoff )\n",
    "unbinding = detect_unbinding( dist[:,1], max_cutoff, min_cutoff )"
   ]
  },
  {
   "cell_type": "code",
   "execution_count": 9,
   "metadata": {},
   "outputs": [
    {
     "name": "stdout",
     "output_type": "stream",
     "text": [
      "# SANITY CHECK: 0\n"
     ]
    }
   ],
   "source": [
    "unbound_time, bound_time = residence_times( dist, unbinding, binding )"
   ]
  },
  {
   "cell_type": "code",
   "execution_count": null,
   "metadata": {},
   "outputs": [],
   "source": [
    "print(\"Unbound residence time: {unbound_time/1e4}\")"
   ]
  },
  {
   "cell_type": "code",
   "execution_count": 49,
   "metadata": {},
   "outputs": [
    {
     "data": {
      "image/png": "[encoded data removed]",
      "text/plain": [
       "<Figure size 432x288 with 1 Axes>"
      ]
     },
     "metadata": {
      "needs_background": "light"
     },
     "output_type": "display_data"
    }
   ],
   "source": [
    "x = dist[:,0]/1e4\n",
    "\n",
    "plt.plot( x, dist[:,1], zorder = 0, lw = 0.5 )\n",
    "plt.hlines( min_cutoff, x[0], x[-1], linestyle = '--', color = 'k', zorder = 10 )\n",
    "plt.hlines( max_cutoff, x[0], x[-1], linestyle = ':',  color = 'k', zorder = 10 )\n",
    "\n",
    "for u in unbinding:\n",
    "    x = dist[:,0][u[0]:u[1]]/1e4\n",
    "    y = dist[:,1][u[0]:u[1]]\n",
    "    plt.plot( x, y, zorder = 0, c = 'tab:red', lw = 0.5 )\n",
    "    \n",
    "for b in binding:\n",
    "    x = dist[:,0][b[0]:b[1]]/1e4\n",
    "    y = dist[:,1][b[0]:b[1]]\n",
    "    plt.plot( x, y, zorder = 0, c = 'tab:green', lw = 0.5 )\n",
    "\n",
    "plt.ylim((0,2.5))\n",
    "plt.xlabel(r'Time [$\\mu$s]')\n",
    "plt.ylabel('Distance [nm]')\n",
    "plt.show()"
   ]
  }
 ],
 "metadata": {
  "kernelspec": {
   "display_name": "Python 3",
   "language": "python",
   "name": "python3"
  },
  "language_info": {
   "codemirror_mode": {
    "name": "ipython",
    "version": 3
   },
   "file_extension": ".py",
   "mimetype": "text/x-python",
   "name": "python",
   "nbconvert_exporter": "python",
   "pygments_lexer": "ipython3",
   "version": "3.7.3"
  },
  "toc": {
   "base_numbering": 1,
   "nav_menu": {},
   "number_sections": true,
   "sideBar": true,
   "skip_h1_title": false,
   "title_cell": "Table of Contents",
   "title_sidebar": "Contents",
   "toc_cell": false,
   "toc_position": {},
   "toc_section_display": true,
   "toc_window_display": true
  }
 },
 "nbformat": 4,
 "nbformat_minor": 2
}
